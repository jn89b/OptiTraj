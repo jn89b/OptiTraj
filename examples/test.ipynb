{
 "cells": [
  {
   "cell_type": "code",
   "execution_count": null,
   "metadata": {},
   "outputs": [
    {
     "ename": "",
     "evalue": "",
     "output_type": "error",
     "traceback": [
      "\u001b[1;31mThe kernel failed to start due to the missing module 'exceptiongroup'. Consider installing this module.\n",
      "\u001b[1;31mClick <a href='https://aka.ms/kernelFailuresMissingModule'>here</a> for more info."
     ]
    }
   ],
   "source": [
    "# Jupyter Notebook Example for Optimal Trajectory Control using MPC and Plane Model\n",
    "\n",
    "# ## 1. Imports\n",
    "# Import the necessary libraries and modules\n",
    "\n",
    "import numpy as np\n",
    "from optitraj.models.plane import Plane, JSBPlane\n",
    "from optitraj.close_loop import CloseLoopSim\n",
    "from optitraj.mpc.PlaneOptControl import PlaneOptControl, Obstacle\n",
    "from optitraj.utils.data_container import MPCParams\n",
    "from optitraj.utils.report import Report\n",
    "from optitraj.dynamics_adapter import JSBSimAdapter\n"
   ]
  }
 ],
 "metadata": {
  "kernelspec": {
   "display_name": "venv",
   "language": "python",
   "name": "python3"
  },
  "language_info": {
   "name": "python",
   "version": "3.10.12"
  }
 },
 "nbformat": 4,
 "nbformat_minor": 2
}
